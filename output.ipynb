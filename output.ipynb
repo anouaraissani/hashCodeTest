{
 "cells": [
  {
   "cell_type": "code",
   "execution_count": 39,
   "metadata": {},
   "outputs": [],
   "source": [
    "import os"
   ]
  },
  {
   "cell_type": "code",
   "execution_count": 40,
   "metadata": {},
   "outputs": [
    {
     "name": "stdout",
     "output_type": "stream",
     "text": [
      "Total number of clients : 4986\n",
      "e_elaborate.out.txt\n"
     ]
    }
   ],
   "source": [
    "input = open(\"input/e_elaborate.in.txt\",\"r\")\n",
    "inputL = [i.rstrip() for i in input.readlines()]\n",
    "totalClients = inputL.pop(0)\n",
    "print(\"Total number of clients : \" + str(totalClients))\n",
    "# print(\"Likes and dislikes in one line : \" + str(inputL))\n",
    "likes = set()\n",
    "dislikes = set()\n",
    "for i in range(0,len(inputL),2):\n",
    "    temp = inputL[i].split()\n",
    "    temp.pop(0)\n",
    "    for t in temp:\n",
    "        likes.add(t)\n",
    "    temp = inputL[i+1].split()\n",
    "    temp.pop(0)\n",
    "    for t in temp:\n",
    "        dislikes.add(t)\n",
    "likesF = [l for l in likes if l not in dislikes]\n",
    "dislikesF = list(dislikes)\n",
    "# print(\"Final ingeredients : \" + str(likesF))\n",
    "fileName = os.path.basename(input.name).replace(\".in.\",\".out.\")\n",
    "print(fileName)\n",
    "output = open(fileName,\"w\")\n",
    "output.write(str(len(likesF)))\n",
    "for i in likesF:\n",
    "    output.write(\" \" + i)\n",
    "input.close()\n",
    "output.close()\n",
    "\n"
   ]
  },
  {
   "cell_type": "code",
   "execution_count": 41,
   "metadata": {},
   "outputs": [
    {
     "name": "stdout",
     "output_type": "stream",
     "text": [
      "Score = 412\n"
     ]
    }
   ],
   "source": [
    "score = 0\n",
    "for i in range(0,len(inputL),2):\n",
    "    clientLikes = inputL[i].split()\n",
    "    clientLikes.pop(0)\n",
    "    clientDislikes = inputL[i+1].split()\n",
    "    clientDislikes.pop(0)\n",
    "    if all(item in likesF for item in clientLikes) and not any(item in likesF for item in clientDislikes):\n",
    "        score += 1\n",
    "print(\"Score = \" + str(score))"
   ]
  }
 ],
 "metadata": {
  "interpreter": {
   "hash": "ac59ebe37160ed0dfa835113d9b8498d9f09ceb179beaac4002f036b9467c963"
  },
  "kernelspec": {
   "display_name": "Python 3.9.9 64-bit",
   "language": "python",
   "name": "python3"
  },
  "language_info": {
   "codemirror_mode": {
    "name": "ipython",
    "version": 3
   },
   "file_extension": ".py",
   "mimetype": "text/x-python",
   "name": "python",
   "nbconvert_exporter": "python",
   "pygments_lexer": "ipython3",
   "version": "3.9.4"
  },
  "orig_nbformat": 4
 },
 "nbformat": 4,
 "nbformat_minor": 2
}
