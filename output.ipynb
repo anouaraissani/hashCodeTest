{
 "cells": [
  {
   "cell_type": "code",
   "execution_count": 54,
   "metadata": {},
   "outputs": [
    {
     "name": "stdout",
     "output_type": "stream",
     "text": [
      "Total number of clients : 10\n",
      "Likes and dislikes in one line : ['3 akuof byyii dlust', '1 xdozp', '3 dlust luncl qzfyo', '1 xdozp', '3 akuof luncl vxglq', '1 qzfyo', '3 dlust vxglq luncl', '0', '3 dlust xveqd tfeej', '0', '3 qzfyo vxglq luncl', '1 byyii', '3 luncl xdozp xveqd', '1 sunhp', '3 byyii xdozp tfeej', '1 qzfyo', '3 dlust akuof tfeej', '1 xveqd', '3 vxglq dlust byyii', '1 akuof']\n",
      "Final ingeredients : ['dlust', 'luncl', 'vxglq', 'tfeej']\n",
      "Score = 1\n"
     ]
    }
   ],
   "source": [
    "input = open(\"input/c_coarse.in.txt\",\"r\")\n",
    "inputL = [i.rstrip() for i in input.readlines()]\n",
    "totalClients = inputL.pop(0)\n",
    "print(\"Total number of clients : \" + str(totalClients))\n",
    "print(\"Likes and dislikes in one line : \" + str(inputL))\n",
    "likes = set()\n",
    "dislikes = set()\n",
    "for i in range(0,len(inputL),2):\n",
    "    temp = inputL[i].split()\n",
    "    temp.pop(0)\n",
    "    for t in temp:\n",
    "        likes.add(t)\n",
    "    temp = inputL[i+1].split()\n",
    "    temp.pop(0)\n",
    "    for t in temp:\n",
    "        dislikes.add(t)\n",
    "likesF = [l for l in likes if l not in dislikes]\n",
    "dislikesF = list(dislikes)\n",
    "print(\"Final ingeredients : \" + str(likesF))\n",
    "output = open(\"output.txt\",\"w\")\n",
    "output.write(str(len(likesF)))\n",
    "for i in likesF:\n",
    "    output.write(\" \" + i)\n",
    "\n",
    "score = 0\n",
    "for i in range(0,len(inputL),2):\n",
    "    clientLikes = inputL[i].split()\n",
    "    clientLikes.pop(0)\n",
    "    clientDislikes = inputL[i+1].split()\n",
    "    clientDislikes.pop(0)\n",
    "    if all(item in likesF for item in clientLikes) and not any(item in likesF for item in clientDislikes):\n",
    "        score += 1\n",
    "print(\"Score = \" + str(score))\n"
   ]
  }
 ],
 "metadata": {
  "interpreter": {
   "hash": "ac59ebe37160ed0dfa835113d9b8498d9f09ceb179beaac4002f036b9467c963"
  },
  "kernelspec": {
   "display_name": "Python 3.9.9 64-bit",
   "language": "python",
   "name": "python3"
  },
  "language_info": {
   "codemirror_mode": {
    "name": "ipython",
    "version": 3
   },
   "file_extension": ".py",
   "mimetype": "text/x-python",
   "name": "python",
   "nbconvert_exporter": "python",
   "pygments_lexer": "ipython3",
   "version": "3.9.9"
  },
  "orig_nbformat": 4
 },
 "nbformat": 4,
 "nbformat_minor": 2
}
